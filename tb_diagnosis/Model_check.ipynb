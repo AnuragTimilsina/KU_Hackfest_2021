{
 "cells": [
  {
   "cell_type": "code",
   "execution_count": 7,
   "metadata": {},
   "outputs": [],
   "source": [
    "import tensorflow as tf \n",
    "\n",
    "from keras.models import load_model\n",
    "from keras.preprocessing import image\n",
    "from keras.preprocessing.image import img_to_array, load_img\n",
    "import numpy as np\n",
    "import json\n"
   ]
  },
  {
   "cell_type": "code",
   "execution_count": 8,
   "metadata": {},
   "outputs": [],
   "source": [
    "new_model = tf.keras.models.load_model('./models/tb_diagnosis_model.h5')\n",
    "\n"
   ]
  },
  {
   "cell_type": "code",
   "execution_count": 9,
   "metadata": {},
   "outputs": [
    {
     "output_type": "stream",
     "name": "stdout",
     "text": [
      "Model: \"sequential\"\n_________________________________________________________________\nLayer (type)                 Output Shape              Param #   \n=================================================================\nrescaling (Rescaling)        (None, 512, 512, 3)       0         \n_________________________________________________________________\nconv2d (Conv2D)              (None, 512, 512, 16)      448       \n_________________________________________________________________\nmax_pooling2d (MaxPooling2D) (None, 256, 256, 16)      0         \n_________________________________________________________________\nconv2d_1 (Conv2D)            (None, 256, 256, 32)      4640      \n_________________________________________________________________\nmax_pooling2d_1 (MaxPooling2 (None, 128, 128, 32)      0         \n_________________________________________________________________\nconv2d_2 (Conv2D)            (None, 128, 128, 64)      18496     \n_________________________________________________________________\nmax_pooling2d_2 (MaxPooling2 (None, 64, 64, 64)        0         \n_________________________________________________________________\nflatten (Flatten)            (None, 262144)            0         \n_________________________________________________________________\ndense (Dense)                (None, 128)               33554560  \n_________________________________________________________________\ndense_1 (Dense)              (None, 3)                 387       \n=================================================================\nTotal params: 33,578,531\nTrainable params: 33,578,531\nNon-trainable params: 0\n_________________________________________________________________\n"
     ]
    }
   ],
   "source": [
    "new_model.summary()"
   ]
  },
  {
   "cell_type": "code",
   "execution_count": 10,
   "metadata": {},
   "outputs": [],
   "source": [
    "img_height = 512\n",
    "img_width = 512"
   ]
  },
  {
   "cell_type": "code",
   "execution_count": 12,
   "metadata": {},
   "outputs": [],
   "source": [
    "testimage = './media/tb.png'\n",
    "original = load_img(testimage, target_size=(img_height, img_width))\n",
    "numpy_image = img_to_array(original)\n",
    "prediction = new_model.predict(np.array([numpy_image]))\n"
   ]
  },
  {
   "cell_type": "code",
   "execution_count": 13,
   "metadata": {},
   "outputs": [
    {
     "output_type": "stream",
     "name": "stdout",
     "text": [
      "[[ 72.19207  -38.36727  -81.735245]]\n"
     ]
    }
   ],
   "source": [
    "print(prediction)"
   ]
  },
  {
   "cell_type": "code",
   "execution_count": 14,
   "metadata": {},
   "outputs": [],
   "source": [
    "pre = np.argmax(prediction)"
   ]
  },
  {
   "cell_type": "code",
   "execution_count": 15,
   "metadata": {},
   "outputs": [
    {
     "output_type": "stream",
     "name": "stdout",
     "text": [
      "0\n"
     ]
    }
   ],
   "source": [
    "print(pre)"
   ]
  },
  {
   "cell_type": "code",
   "execution_count": 17,
   "metadata": {},
   "outputs": [],
   "source": [
    "def turn_predictions_to_labels(prediction):\n",
    "    predection = int(prediction)\n",
    "    if prediction == 0:\n",
    "        label = \"Tuberclosis\"\n",
    "    elif prediction == 1:\n",
    "        label = \"Sick\"\n",
    "    elif prediction == 2:\n",
    "        label = \"Healthy\"\n",
    "    return label\n"
   ]
  },
  {
   "cell_type": "code",
   "execution_count": 18,
   "metadata": {},
   "outputs": [
    {
     "output_type": "stream",
     "name": "stdout",
     "text": [
      "Tuberclosis\n"
     ]
    }
   ],
   "source": [
    "label = turn_predictions_to_labels(pre)\n",
    "print(label)"
   ]
  },
  {
   "cell_type": "code",
   "execution_count": 20,
   "metadata": {},
   "outputs": [],
   "source": [
    "def label_remarks(label):\n",
    "    remarks = ''\n",
    "    if label == 0:\n",
    "        remarks = \"Sorry, you have been infected with Tuberculosis.\"\n",
    "    elif label == 1:\n",
    "        remarks = \"You are not infected with Tuberculosis, but your lungs is sick.\"\n",
    "    elif label == 2:\n",
    "        remarks = \"You are not infected with tuberculosis, and your lungs is healthy.\"\n",
    "    return remarks"
   ]
  },
  {
   "cell_type": "code",
   "execution_count": 22,
   "metadata": {},
   "outputs": [
    {
     "output_type": "error",
     "ename": "UnboundLocalError",
     "evalue": "local variable 'remarks' referenced before assignment",
     "traceback": [
      "\u001b[0;31m---------------------------------------------------------------------------\u001b[0m",
      "\u001b[0;31mUnboundLocalError\u001b[0m                         Traceback (most recent call last)",
      "\u001b[0;32m<ipython-input-22-202058382abe>\u001b[0m in \u001b[0;36m<module>\u001b[0;34m\u001b[0m\n\u001b[0;32m----> 1\u001b[0;31m \u001b[0mcomment\u001b[0m \u001b[0;34m=\u001b[0m \u001b[0mlabel_remarks\u001b[0m\u001b[0;34m(\u001b[0m\u001b[0mlabel\u001b[0m\u001b[0;34m)\u001b[0m\u001b[0;34m\u001b[0m\u001b[0;34m\u001b[0m\u001b[0m\n\u001b[0m",
      "\u001b[0;32m<ipython-input-20-a80728dd1c91>\u001b[0m in \u001b[0;36mlabel_remarks\u001b[0;34m(label)\u001b[0m\n\u001b[1;32m      6\u001b[0m     \u001b[0;32melif\u001b[0m \u001b[0mlabel\u001b[0m \u001b[0;34m==\u001b[0m \u001b[0;36m2\u001b[0m\u001b[0;34m:\u001b[0m\u001b[0;34m\u001b[0m\u001b[0;34m\u001b[0m\u001b[0m\n\u001b[1;32m      7\u001b[0m         \u001b[0mremarks\u001b[0m \u001b[0;34m=\u001b[0m \u001b[0;34m\"You are not infected with tuberculosis, and your lungs is healthy.\"\u001b[0m\u001b[0;34m\u001b[0m\u001b[0;34m\u001b[0m\u001b[0m\n\u001b[0;32m----> 8\u001b[0;31m     \u001b[0;32mreturn\u001b[0m \u001b[0mremarks\u001b[0m\u001b[0;34m\u001b[0m\u001b[0;34m\u001b[0m\u001b[0m\n\u001b[0m",
      "\u001b[0;31mUnboundLocalError\u001b[0m: local variable 'remarks' referenced before assignment"
     ]
    }
   ],
   "source": [
    "comment = label_remarks(label)"
   ]
  },
  {
   "cell_type": "code",
   "execution_count": null,
   "metadata": {},
   "outputs": [],
   "source": []
  }
 ],
 "metadata": {
  "kernelspec": {
   "display_name": "Python 3",
   "language": "python",
   "name": "python3"
  },
  "language_info": {
   "codemirror_mode": {
    "name": "ipython",
    "version": 3
   },
   "file_extension": ".py",
   "mimetype": "text/x-python",
   "name": "python",
   "nbconvert_exporter": "python",
   "pygments_lexer": "ipython3",
   "version": "3.8.5-final"
  }
 },
 "nbformat": 4,
 "nbformat_minor": 2
}