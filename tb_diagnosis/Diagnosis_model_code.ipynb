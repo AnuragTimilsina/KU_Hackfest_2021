{
 "cells": [
  {
   "cell_type": "markdown",
   "metadata": {},
   "source": [
    "# Loading down all the module we are going to use through out this program."
   ]
  },
  {
   "cell_type": "code",
   "execution_count": 46,
   "metadata": {},
   "outputs": [],
   "source": [
    "import pandas as pd\n",
    "import numpy as np\n",
    "import tensorflow as tf\n",
    "import matplotlib.pyplot as plt\n",
    "from IPython.display import Image as Image_IP \n",
    "from IPython.display import display\n",
    "from keras.datasets import cifar10\n",
    "from keras.models import Sequential\n",
    "from keras.layers import Dense, Dropout, Conv2D, MaxPool2D, Flatten\n",
    "from keras.utils import np_utils\n",
    "import matplotlib.image as mpimg\n",
    "from PIL import Image\n",
    "from matplotlib import image\n",
    "from matplotlib import pyplot\n",
    "import matplotlib.pyplot as plt\n",
    "import os\n",
    "import PIL\n",
    "\n",
    "from tensorflow import keras\n",
    "from tensorflow.keras import layers\n",
    "from tensorflow.keras.models import Sequential"
   ]
  },
  {
   "cell_type": "markdown",
   "metadata": {},
   "source": [
    "## Setting up the main directory for the images to load from "
   ]
  },
  {
   "cell_type": "code",
   "execution_count": 11,
   "metadata": {},
   "outputs": [],
   "source": [
    "DATADIR = \"/home/jovyan/work/TBX11K/imgs/\""
   ]
  },
  {
   "cell_type": "markdown",
   "metadata": {},
   "source": [
    "# Better Formatting our data labels:"
   ]
  },
  {
   "cell_type": "markdown",
   "metadata": {},
   "source": [
    "#### Loading and formating at the same time first for TBX11K_train"
   ]
  },
  {
   "cell_type": "code",
   "execution_count": 12,
   "metadata": {},
   "outputs": [],
   "source": [
    "TBX11K_train=pd.read_csv(\"/home/jovyan/work/TBX11K/lists/TBX11K_train.txt\", header=None)\n",
    "TBX11K_train.columns=[\"directory\"]\n",
    "TBX11K_train[['Category(Label)','FileName']] = TBX11K_train[\"directory\"].str.split('/', 1,expand=True)\n",
    "TBX11K_train['directory']=(DATADIR+TBX11K_train['directory'])\n",
    "TBX11K_train[\"Category(Integer)\"]=TBX11K_train[\"Category(Label)\"]\n",
    "TBX11K_train[\"Category(Integer)\"].replace({\"tb\": 0, \"sick\": 1,\"health\":2}, inplace=True)"
   ]
  },
  {
   "cell_type": "code",
   "execution_count": 13,
   "metadata": {},
   "outputs": [
    {
     "data": {
      "text/html": [
       "<div>\n",
       "<style scoped>\n",
       "    .dataframe tbody tr th:only-of-type {\n",
       "        vertical-align: middle;\n",
       "    }\n",
       "\n",
       "    .dataframe tbody tr th {\n",
       "        vertical-align: top;\n",
       "    }\n",
       "\n",
       "    .dataframe thead th {\n",
       "        text-align: right;\n",
       "    }\n",
       "</style>\n",
       "<table border=\"1\" class=\"dataframe\">\n",
       "  <thead>\n",
       "    <tr style=\"text-align: right;\">\n",
       "      <th></th>\n",
       "      <th>directory</th>\n",
       "      <th>Category(Label)</th>\n",
       "      <th>FileName</th>\n",
       "      <th>Category(Integer)</th>\n",
       "    </tr>\n",
       "  </thead>\n",
       "  <tbody>\n",
       "    <tr>\n",
       "      <th>3194</th>\n",
       "      <td>/home/jovyan/work/TBX11K/imgs/health/h4356.png</td>\n",
       "      <td>health</td>\n",
       "      <td>h4356.png</td>\n",
       "      <td>2</td>\n",
       "    </tr>\n",
       "    <tr>\n",
       "      <th>5253</th>\n",
       "      <td>/home/jovyan/work/TBX11K/imgs/sick/s2721.png</td>\n",
       "      <td>sick</td>\n",
       "      <td>s2721.png</td>\n",
       "      <td>1</td>\n",
       "    </tr>\n",
       "    <tr>\n",
       "      <th>5129</th>\n",
       "      <td>/home/jovyan/work/TBX11K/imgs/sick/s2520.png</td>\n",
       "      <td>sick</td>\n",
       "      <td>s2520.png</td>\n",
       "      <td>1</td>\n",
       "    </tr>\n",
       "    <tr>\n",
       "      <th>5501</th>\n",
       "      <td>/home/jovyan/work/TBX11K/imgs/sick/s3161.png</td>\n",
       "      <td>sick</td>\n",
       "      <td>s3161.png</td>\n",
       "      <td>1</td>\n",
       "    </tr>\n",
       "    <tr>\n",
       "      <th>3751</th>\n",
       "      <td>/home/jovyan/work/TBX11K/imgs/sick/s0253.png</td>\n",
       "      <td>sick</td>\n",
       "      <td>s0253.png</td>\n",
       "      <td>1</td>\n",
       "    </tr>\n",
       "    <tr>\n",
       "      <th>1720</th>\n",
       "      <td>/home/jovyan/work/TBX11K/imgs/health/h1866.png</td>\n",
       "      <td>health</td>\n",
       "      <td>h1866.png</td>\n",
       "      <td>2</td>\n",
       "    </tr>\n",
       "    <tr>\n",
       "      <th>2025</th>\n",
       "      <td>/home/jovyan/work/TBX11K/imgs/health/h2392.png</td>\n",
       "      <td>health</td>\n",
       "      <td>h2392.png</td>\n",
       "      <td>2</td>\n",
       "    </tr>\n",
       "    <tr>\n",
       "      <th>5345</th>\n",
       "      <td>/home/jovyan/work/TBX11K/imgs/sick/s2887.png</td>\n",
       "      <td>sick</td>\n",
       "      <td>s2887.png</td>\n",
       "      <td>1</td>\n",
       "    </tr>\n",
       "    <tr>\n",
       "      <th>3955</th>\n",
       "      <td>/home/jovyan/work/TBX11K/imgs/sick/s0606.png</td>\n",
       "      <td>sick</td>\n",
       "      <td>s0606.png</td>\n",
       "      <td>1</td>\n",
       "    </tr>\n",
       "    <tr>\n",
       "      <th>2270</th>\n",
       "      <td>/home/jovyan/work/TBX11K/imgs/health/h2825.png</td>\n",
       "      <td>health</td>\n",
       "      <td>h2825.png</td>\n",
       "      <td>2</td>\n",
       "    </tr>\n",
       "  </tbody>\n",
       "</table>\n",
       "</div>"
      ],
      "text/plain": [
       "                                           directory Category(Label)  \\\n",
       "3194  /home/jovyan/work/TBX11K/imgs/health/h4356.png          health   \n",
       "5253    /home/jovyan/work/TBX11K/imgs/sick/s2721.png            sick   \n",
       "5129    /home/jovyan/work/TBX11K/imgs/sick/s2520.png            sick   \n",
       "5501    /home/jovyan/work/TBX11K/imgs/sick/s3161.png            sick   \n",
       "3751    /home/jovyan/work/TBX11K/imgs/sick/s0253.png            sick   \n",
       "1720  /home/jovyan/work/TBX11K/imgs/health/h1866.png          health   \n",
       "2025  /home/jovyan/work/TBX11K/imgs/health/h2392.png          health   \n",
       "5345    /home/jovyan/work/TBX11K/imgs/sick/s2887.png            sick   \n",
       "3955    /home/jovyan/work/TBX11K/imgs/sick/s0606.png            sick   \n",
       "2270  /home/jovyan/work/TBX11K/imgs/health/h2825.png          health   \n",
       "\n",
       "       FileName  Category(Integer)  \n",
       "3194  h4356.png                  2  \n",
       "5253  s2721.png                  1  \n",
       "5129  s2520.png                  1  \n",
       "5501  s3161.png                  1  \n",
       "3751  s0253.png                  1  \n",
       "1720  h1866.png                  2  \n",
       "2025  h2392.png                  2  \n",
       "5345  s2887.png                  1  \n",
       "3955  s0606.png                  1  \n",
       "2270  h2825.png                  2  "
      ]
     },
     "execution_count": 13,
     "metadata": {},
     "output_type": "execute_result"
    }
   ],
   "source": [
    "TBX11K_train.sample(10)"
   ]
  },
  {
   "cell_type": "markdown",
   "metadata": {},
   "source": [
    "#### Loading and formating at the same time now for TBX11K_trainval"
   ]
  },
  {
   "cell_type": "code",
   "execution_count": 14,
   "metadata": {},
   "outputs": [],
   "source": [
    "TBX11K_trainval=pd.read_csv(\"/home/jovyan/work/TBX11K/lists/TBX11K_trainval.txt\", header=None)\n",
    "TBX11K_trainval.columns=[\"directory\"]\n",
    "TBX11K_trainval[['Category(Label)','FileName']]=TBX11K_trainval[\"directory\"].str.split('/',1,expand=True)\n",
    "TBX11K_trainval['directory']=(DATADIR+TBX11K_trainval['directory'])\n",
    "TBX11K_trainval[\"Category(Integer)\"]=TBX11K_trainval[\"Category(Label)\"]\n",
    "TBX11K_trainval[\"Category(Integer)\"].replace({\"tb\": 0, \"sick\": 1,\"health\":2}, inplace=True)"
   ]
  },
  {
   "cell_type": "code",
   "execution_count": 15,
   "metadata": {},
   "outputs": [
    {
     "data": {
      "text/html": [
       "<div>\n",
       "<style scoped>\n",
       "    .dataframe tbody tr th:only-of-type {\n",
       "        vertical-align: middle;\n",
       "    }\n",
       "\n",
       "    .dataframe tbody tr th {\n",
       "        vertical-align: top;\n",
       "    }\n",
       "\n",
       "    .dataframe thead th {\n",
       "        text-align: right;\n",
       "    }\n",
       "</style>\n",
       "<table border=\"1\" class=\"dataframe\">\n",
       "  <thead>\n",
       "    <tr style=\"text-align: right;\">\n",
       "      <th></th>\n",
       "      <th>directory</th>\n",
       "      <th>Category(Label)</th>\n",
       "      <th>FileName</th>\n",
       "      <th>Category(Integer)</th>\n",
       "    </tr>\n",
       "  </thead>\n",
       "  <tbody>\n",
       "    <tr>\n",
       "      <th>3182</th>\n",
       "      <td>/home/jovyan/work/TBX11K/imgs/health/h3152.png</td>\n",
       "      <td>health</td>\n",
       "      <td>h3152.png</td>\n",
       "      <td>2</td>\n",
       "    </tr>\n",
       "    <tr>\n",
       "      <th>6817</th>\n",
       "      <td>/home/jovyan/work/TBX11K/imgs/sick/s2913.png</td>\n",
       "      <td>sick</td>\n",
       "      <td>s2913.png</td>\n",
       "      <td>1</td>\n",
       "    </tr>\n",
       "    <tr>\n",
       "      <th>8259</th>\n",
       "      <td>/home/jovyan/work/TBX11K/imgs/sick/s4814.png</td>\n",
       "      <td>sick</td>\n",
       "      <td>s4814.png</td>\n",
       "      <td>1</td>\n",
       "    </tr>\n",
       "    <tr>\n",
       "      <th>4873</th>\n",
       "      <td>/home/jovyan/work/TBX11K/imgs/sick/s0358.png</td>\n",
       "      <td>sick</td>\n",
       "      <td>s0358.png</td>\n",
       "      <td>1</td>\n",
       "    </tr>\n",
       "    <tr>\n",
       "      <th>7117</th>\n",
       "      <td>/home/jovyan/work/TBX11K/imgs/sick/s3300.png</td>\n",
       "      <td>sick</td>\n",
       "      <td>s3300.png</td>\n",
       "      <td>1</td>\n",
       "    </tr>\n",
       "    <tr>\n",
       "      <th>1632</th>\n",
       "      <td>/home/jovyan/work/TBX11K/imgs/health/h1082.png</td>\n",
       "      <td>health</td>\n",
       "      <td>h1082.png</td>\n",
       "      <td>2</td>\n",
       "    </tr>\n",
       "    <tr>\n",
       "      <th>1752</th>\n",
       "      <td>/home/jovyan/work/TBX11K/imgs/health/h1250.png</td>\n",
       "      <td>health</td>\n",
       "      <td>h1250.png</td>\n",
       "      <td>2</td>\n",
       "    </tr>\n",
       "    <tr>\n",
       "      <th>6473</th>\n",
       "      <td>/home/jovyan/work/TBX11K/imgs/sick/s2452.png</td>\n",
       "      <td>sick</td>\n",
       "      <td>s2452.png</td>\n",
       "      <td>1</td>\n",
       "    </tr>\n",
       "    <tr>\n",
       "      <th>2942</th>\n",
       "      <td>/home/jovyan/work/TBX11K/imgs/health/h2836.png</td>\n",
       "      <td>health</td>\n",
       "      <td>h2836.png</td>\n",
       "      <td>2</td>\n",
       "    </tr>\n",
       "    <tr>\n",
       "      <th>3092</th>\n",
       "      <td>/home/jovyan/work/TBX11K/imgs/health/h3035.png</td>\n",
       "      <td>health</td>\n",
       "      <td>h3035.png</td>\n",
       "      <td>2</td>\n",
       "    </tr>\n",
       "  </tbody>\n",
       "</table>\n",
       "</div>"
      ],
      "text/plain": [
       "                                           directory Category(Label)  \\\n",
       "3182  /home/jovyan/work/TBX11K/imgs/health/h3152.png          health   \n",
       "6817    /home/jovyan/work/TBX11K/imgs/sick/s2913.png            sick   \n",
       "8259    /home/jovyan/work/TBX11K/imgs/sick/s4814.png            sick   \n",
       "4873    /home/jovyan/work/TBX11K/imgs/sick/s0358.png            sick   \n",
       "7117    /home/jovyan/work/TBX11K/imgs/sick/s3300.png            sick   \n",
       "1632  /home/jovyan/work/TBX11K/imgs/health/h1082.png          health   \n",
       "1752  /home/jovyan/work/TBX11K/imgs/health/h1250.png          health   \n",
       "6473    /home/jovyan/work/TBX11K/imgs/sick/s2452.png            sick   \n",
       "2942  /home/jovyan/work/TBX11K/imgs/health/h2836.png          health   \n",
       "3092  /home/jovyan/work/TBX11K/imgs/health/h3035.png          health   \n",
       "\n",
       "       FileName  Category(Integer)  \n",
       "3182  h3152.png                  2  \n",
       "6817  s2913.png                  1  \n",
       "8259  s4814.png                  1  \n",
       "4873  s0358.png                  1  \n",
       "7117  s3300.png                  1  \n",
       "1632  h1082.png                  2  \n",
       "1752  h1250.png                  2  \n",
       "6473  s2452.png                  1  \n",
       "2942  h2836.png                  2  \n",
       "3092  h3035.png                  2  "
      ]
     },
     "execution_count": 15,
     "metadata": {},
     "output_type": "execute_result"
    }
   ],
   "source": [
    "TBX11K_trainval.sample(10)"
   ]
  },
  {
   "cell_type": "markdown",
   "metadata": {},
   "source": [
    "#### Loading and formating at the same time now for TBX11K_val"
   ]
  },
  {
   "cell_type": "code",
   "execution_count": 16,
   "metadata": {},
   "outputs": [],
   "source": [
    "TBX11K_val=pd.read_csv(\"/home/jovyan/work/TBX11K/lists/TBX11K_val.txt\", header=None)\n",
    "TBX11K_val.columns=[\"directory\"]\n",
    "TBX11K_val[['Category(Label)','FileName']]=TBX11K_val[\"directory\"].str.split('/',1,expand=True)\n",
    "TBX11K_val['directory']=(DATADIR+TBX11K_val['directory'])\n",
    "TBX11K_val[\"Category(Integer)\"]=TBX11K_val[\"Category(Label)\"]\n",
    "TBX11K_val[\"Category(Integer)\"].replace({\"tb\": 0, \"sick\": 1,\"health\":2}, inplace=True)"
   ]
  },
  {
   "cell_type": "code",
   "execution_count": 17,
   "metadata": {},
   "outputs": [
    {
     "data": {
      "text/html": [
       "<div>\n",
       "<style scoped>\n",
       "    .dataframe tbody tr th:only-of-type {\n",
       "        vertical-align: middle;\n",
       "    }\n",
       "\n",
       "    .dataframe tbody tr th {\n",
       "        vertical-align: top;\n",
       "    }\n",
       "\n",
       "    .dataframe thead th {\n",
       "        text-align: right;\n",
       "    }\n",
       "</style>\n",
       "<table border=\"1\" class=\"dataframe\">\n",
       "  <thead>\n",
       "    <tr style=\"text-align: right;\">\n",
       "      <th></th>\n",
       "      <th>directory</th>\n",
       "      <th>Category(Label)</th>\n",
       "      <th>FileName</th>\n",
       "      <th>Category(Integer)</th>\n",
       "    </tr>\n",
       "  </thead>\n",
       "  <tbody>\n",
       "    <tr>\n",
       "      <th>1290</th>\n",
       "      <td>/home/jovyan/work/TBX11K/imgs/sick/s1881.png</td>\n",
       "      <td>sick</td>\n",
       "      <td>s1881.png</td>\n",
       "      <td>1</td>\n",
       "    </tr>\n",
       "    <tr>\n",
       "      <th>1593</th>\n",
       "      <td>/home/jovyan/work/TBX11K/imgs/sick/s3678.png</td>\n",
       "      <td>sick</td>\n",
       "      <td>s3678.png</td>\n",
       "      <td>1</td>\n",
       "    </tr>\n",
       "    <tr>\n",
       "      <th>95</th>\n",
       "      <td>/home/jovyan/work/TBX11K/imgs/tb/tb0569.png</td>\n",
       "      <td>tb</td>\n",
       "      <td>tb0569.png</td>\n",
       "      <td>0</td>\n",
       "    </tr>\n",
       "    <tr>\n",
       "      <th>320</th>\n",
       "      <td>/home/jovyan/work/TBX11K/imgs/health/h0734.png</td>\n",
       "      <td>health</td>\n",
       "      <td>h0734.png</td>\n",
       "      <td>2</td>\n",
       "    </tr>\n",
       "    <tr>\n",
       "      <th>868</th>\n",
       "      <td>/home/jovyan/work/TBX11K/imgs/health/h4155.png</td>\n",
       "      <td>health</td>\n",
       "      <td>h4155.png</td>\n",
       "      <td>2</td>\n",
       "    </tr>\n",
       "    <tr>\n",
       "      <th>546</th>\n",
       "      <td>/home/jovyan/work/TBX11K/imgs/health/h2212.png</td>\n",
       "      <td>health</td>\n",
       "      <td>h2212.png</td>\n",
       "      <td>2</td>\n",
       "    </tr>\n",
       "    <tr>\n",
       "      <th>1172</th>\n",
       "      <td>/home/jovyan/work/TBX11K/imgs/sick/s1122.png</td>\n",
       "      <td>sick</td>\n",
       "      <td>s1122.png</td>\n",
       "      <td>1</td>\n",
       "    </tr>\n",
       "    <tr>\n",
       "      <th>1451</th>\n",
       "      <td>/home/jovyan/work/TBX11K/imgs/sick/s2878.png</td>\n",
       "      <td>sick</td>\n",
       "      <td>s2878.png</td>\n",
       "      <td>1</td>\n",
       "    </tr>\n",
       "    <tr>\n",
       "      <th>49</th>\n",
       "      <td>/home/jovyan/work/TBX11K/imgs/tb/tb0356.png</td>\n",
       "      <td>tb</td>\n",
       "      <td>tb0356.png</td>\n",
       "      <td>0</td>\n",
       "    </tr>\n",
       "    <tr>\n",
       "      <th>1669</th>\n",
       "      <td>/home/jovyan/work/TBX11K/imgs/sick/s4196.png</td>\n",
       "      <td>sick</td>\n",
       "      <td>s4196.png</td>\n",
       "      <td>1</td>\n",
       "    </tr>\n",
       "  </tbody>\n",
       "</table>\n",
       "</div>"
      ],
      "text/plain": [
       "                                           directory Category(Label)  \\\n",
       "1290    /home/jovyan/work/TBX11K/imgs/sick/s1881.png            sick   \n",
       "1593    /home/jovyan/work/TBX11K/imgs/sick/s3678.png            sick   \n",
       "95       /home/jovyan/work/TBX11K/imgs/tb/tb0569.png              tb   \n",
       "320   /home/jovyan/work/TBX11K/imgs/health/h0734.png          health   \n",
       "868   /home/jovyan/work/TBX11K/imgs/health/h4155.png          health   \n",
       "546   /home/jovyan/work/TBX11K/imgs/health/h2212.png          health   \n",
       "1172    /home/jovyan/work/TBX11K/imgs/sick/s1122.png            sick   \n",
       "1451    /home/jovyan/work/TBX11K/imgs/sick/s2878.png            sick   \n",
       "49       /home/jovyan/work/TBX11K/imgs/tb/tb0356.png              tb   \n",
       "1669    /home/jovyan/work/TBX11K/imgs/sick/s4196.png            sick   \n",
       "\n",
       "        FileName  Category(Integer)  \n",
       "1290   s1881.png                  1  \n",
       "1593   s3678.png                  1  \n",
       "95    tb0569.png                  0  \n",
       "320    h0734.png                  2  \n",
       "868    h4155.png                  2  \n",
       "546    h2212.png                  2  \n",
       "1172   s1122.png                  1  \n",
       "1451   s2878.png                  1  \n",
       "49    tb0356.png                  0  \n",
       "1669   s4196.png                  1  "
      ]
     },
     "execution_count": 17,
     "metadata": {},
     "output_type": "execute_result"
    }
   ],
   "source": [
    "TBX11K_val.sample(10)"
   ]
  },
  {
   "cell_type": "markdown",
   "metadata": {},
   "source": [
    "# Starting the model code"
   ]
  },
  {
   "cell_type": "markdown",
   "metadata": {},
   "source": [
    "### Converting the data in directory to numpy array"
   ]
  },
  {
   "cell_type": "markdown",
   "metadata": {},
   "source": [
    "#### TBX11K_train labels and data itself"
   ]
  },
  {
   "cell_type": "code",
   "execution_count": 18,
   "metadata": {},
   "outputs": [
    {
     "data": {
      "text/html": [
       "<div>\n",
       "<style scoped>\n",
       "    .dataframe tbody tr th:only-of-type {\n",
       "        vertical-align: middle;\n",
       "    }\n",
       "\n",
       "    .dataframe tbody tr th {\n",
       "        vertical-align: top;\n",
       "    }\n",
       "\n",
       "    .dataframe thead th {\n",
       "        text-align: right;\n",
       "    }\n",
       "</style>\n",
       "<table border=\"1\" class=\"dataframe\">\n",
       "  <thead>\n",
       "    <tr style=\"text-align: right;\">\n",
       "      <th></th>\n",
       "      <th>directory</th>\n",
       "      <th>Category(Label)</th>\n",
       "      <th>FileName</th>\n",
       "      <th>Category(Integer)</th>\n",
       "    </tr>\n",
       "  </thead>\n",
       "  <tbody>\n",
       "    <tr>\n",
       "      <th>3998</th>\n",
       "      <td>/home/jovyan/work/TBX11K/imgs/sick/s0673.png</td>\n",
       "      <td>sick</td>\n",
       "      <td>s0673.png</td>\n",
       "      <td>1</td>\n",
       "    </tr>\n",
       "    <tr>\n",
       "      <th>880</th>\n",
       "      <td>/home/jovyan/work/TBX11K/imgs/health/h0439.png</td>\n",
       "      <td>health</td>\n",
       "      <td>h0439.png</td>\n",
       "      <td>2</td>\n",
       "    </tr>\n",
       "    <tr>\n",
       "      <th>4153</th>\n",
       "      <td>/home/jovyan/work/TBX11K/imgs/sick/s0924.png</td>\n",
       "      <td>sick</td>\n",
       "      <td>s0924.png</td>\n",
       "      <td>1</td>\n",
       "    </tr>\n",
       "    <tr>\n",
       "      <th>6428</th>\n",
       "      <td>/home/jovyan/work/TBX11K/imgs/sick/s4734.png</td>\n",
       "      <td>sick</td>\n",
       "      <td>s4734.png</td>\n",
       "      <td>1</td>\n",
       "    </tr>\n",
       "    <tr>\n",
       "      <th>1213</th>\n",
       "      <td>/home/jovyan/work/TBX11K/imgs/health/h1016.png</td>\n",
       "      <td>health</td>\n",
       "      <td>h1016.png</td>\n",
       "      <td>2</td>\n",
       "    </tr>\n",
       "    <tr>\n",
       "      <th>1943</th>\n",
       "      <td>/home/jovyan/work/TBX11K/imgs/health/h2224.png</td>\n",
       "      <td>health</td>\n",
       "      <td>h2224.png</td>\n",
       "      <td>2</td>\n",
       "    </tr>\n",
       "    <tr>\n",
       "      <th>4678</th>\n",
       "      <td>/home/jovyan/work/TBX11K/imgs/sick/s1782.png</td>\n",
       "      <td>sick</td>\n",
       "      <td>s1782.png</td>\n",
       "      <td>1</td>\n",
       "    </tr>\n",
       "    <tr>\n",
       "      <th>2187</th>\n",
       "      <td>/home/jovyan/work/TBX11K/imgs/health/h2661.png</td>\n",
       "      <td>health</td>\n",
       "      <td>h2661.png</td>\n",
       "      <td>2</td>\n",
       "    </tr>\n",
       "    <tr>\n",
       "      <th>2260</th>\n",
       "      <td>/home/jovyan/work/TBX11K/imgs/health/h2804.png</td>\n",
       "      <td>health</td>\n",
       "      <td>h2804.png</td>\n",
       "      <td>2</td>\n",
       "    </tr>\n",
       "    <tr>\n",
       "      <th>4033</th>\n",
       "      <td>/home/jovyan/work/TBX11K/imgs/sick/s0726.png</td>\n",
       "      <td>sick</td>\n",
       "      <td>s0726.png</td>\n",
       "      <td>1</td>\n",
       "    </tr>\n",
       "  </tbody>\n",
       "</table>\n",
       "</div>"
      ],
      "text/plain": [
       "                                           directory Category(Label)  \\\n",
       "3998    /home/jovyan/work/TBX11K/imgs/sick/s0673.png            sick   \n",
       "880   /home/jovyan/work/TBX11K/imgs/health/h0439.png          health   \n",
       "4153    /home/jovyan/work/TBX11K/imgs/sick/s0924.png            sick   \n",
       "6428    /home/jovyan/work/TBX11K/imgs/sick/s4734.png            sick   \n",
       "1213  /home/jovyan/work/TBX11K/imgs/health/h1016.png          health   \n",
       "1943  /home/jovyan/work/TBX11K/imgs/health/h2224.png          health   \n",
       "4678    /home/jovyan/work/TBX11K/imgs/sick/s1782.png            sick   \n",
       "2187  /home/jovyan/work/TBX11K/imgs/health/h2661.png          health   \n",
       "2260  /home/jovyan/work/TBX11K/imgs/health/h2804.png          health   \n",
       "4033    /home/jovyan/work/TBX11K/imgs/sick/s0726.png            sick   \n",
       "\n",
       "       FileName  Category(Integer)  \n",
       "3998  s0673.png                  1  \n",
       "880   h0439.png                  2  \n",
       "4153  s0924.png                  1  \n",
       "6428  s4734.png                  1  \n",
       "1213  h1016.png                  2  \n",
       "1943  h2224.png                  2  \n",
       "4678  s1782.png                  1  \n",
       "2187  h2661.png                  2  \n",
       "2260  h2804.png                  2  \n",
       "4033  s0726.png                  1  "
      ]
     },
     "execution_count": 18,
     "metadata": {},
     "output_type": "execute_result"
    }
   ],
   "source": [
    "TBX11K_train.sample(10)"
   ]
  },
  {
   "cell_type": "code",
   "execution_count": 19,
   "metadata": {},
   "outputs": [],
   "source": [
    "train_array = np.array([np.array(Image.open(fname)) for fname in TBX11K_train['directory']])"
   ]
  },
  {
   "cell_type": "code",
   "execution_count": 20,
   "metadata": {},
   "outputs": [
    {
     "data": {
      "text/plain": [
       "(6600, 512, 512, 3)"
      ]
     },
     "execution_count": 20,
     "metadata": {},
     "output_type": "execute_result"
    }
   ],
   "source": [
    "train_array.shape"
   ]
  },
  {
   "cell_type": "code",
   "execution_count": 21,
   "metadata": {},
   "outputs": [
    {
     "data": {
      "image/png": "[encoded data removed]",
      "text/plain": [
       "<Figure size 432x288 with 1 Axes>"
      ]
     },
     "metadata": {
      "needs_background": "light"
     },
     "output_type": "display_data"
    }
   ],
   "source": [
    "im=train_array[1500]\n",
    "pyplot.imshow(im)\n",
    "pyplot.show()"
   ]
  },
  {
   "cell_type": "code",
   "execution_count": 22,
   "metadata": {},
   "outputs": [],
   "source": [
    "train_array_labels=np.array(TBX11K_train['Category(Integer)'])\n",
    "train_array_labels=train_array_labels.reshape((len(train_array_labels), 1))"
   ]
  },
  {
   "cell_type": "code",
   "execution_count": 23,
   "metadata": {},
   "outputs": [
    {
     "data": {
      "text/plain": [
       "(6600, 1)"
      ]
     },
     "execution_count": 23,
     "metadata": {},
     "output_type": "execute_result"
    }
   ],
   "source": [
    "train_array_labels.shape"
   ]
  },
  {
   "cell_type": "code",
   "execution_count": 24,
   "metadata": {},
   "outputs": [
    {
     "data": {
      "text/plain": [
       "array([2])"
      ]
     },
     "execution_count": 24,
     "metadata": {},
     "output_type": "execute_result"
    }
   ],
   "source": [
    "train_array_labels[1500]"
   ]
  },
  {
   "cell_type": "markdown",
   "metadata": {},
   "source": [
    "#### TBX11K_val labels and data "
   ]
  },
  {
   "cell_type": "code",
   "execution_count": 25,
   "metadata": {},
   "outputs": [
    {
     "data": {
      "text/html": [
       "<div>\n",
       "<style scoped>\n",
       "    .dataframe tbody tr th:only-of-type {\n",
       "        vertical-align: middle;\n",
       "    }\n",
       "\n",
       "    .dataframe tbody tr th {\n",
       "        vertical-align: top;\n",
       "    }\n",
       "\n",
       "    .dataframe thead th {\n",
       "        text-align: right;\n",
       "    }\n",
       "</style>\n",
       "<table border=\"1\" class=\"dataframe\">\n",
       "  <thead>\n",
       "    <tr style=\"text-align: right;\">\n",
       "      <th></th>\n",
       "      <th>directory</th>\n",
       "      <th>Category(Label)</th>\n",
       "      <th>FileName</th>\n",
       "      <th>Category(Integer)</th>\n",
       "    </tr>\n",
       "  </thead>\n",
       "  <tbody>\n",
       "    <tr>\n",
       "      <th>1584</th>\n",
       "      <td>/home/jovyan/work/TBX11K/imgs/sick/s3648.png</td>\n",
       "      <td>sick</td>\n",
       "      <td>s3648.png</td>\n",
       "      <td>1</td>\n",
       "    </tr>\n",
       "    <tr>\n",
       "      <th>1451</th>\n",
       "      <td>/home/jovyan/work/TBX11K/imgs/sick/s2878.png</td>\n",
       "      <td>sick</td>\n",
       "      <td>s2878.png</td>\n",
       "      <td>1</td>\n",
       "    </tr>\n",
       "    <tr>\n",
       "      <th>807</th>\n",
       "      <td>/home/jovyan/work/TBX11K/imgs/health/h3769.png</td>\n",
       "      <td>health</td>\n",
       "      <td>h3769.png</td>\n",
       "      <td>2</td>\n",
       "    </tr>\n",
       "    <tr>\n",
       "      <th>131</th>\n",
       "      <td>/home/jovyan/work/TBX11K/imgs/tb/tb0792.png</td>\n",
       "      <td>tb</td>\n",
       "      <td>tb0792.png</td>\n",
       "      <td>0</td>\n",
       "    </tr>\n",
       "    <tr>\n",
       "      <th>1169</th>\n",
       "      <td>/home/jovyan/work/TBX11K/imgs/sick/s1111.png</td>\n",
       "      <td>sick</td>\n",
       "      <td>s1111.png</td>\n",
       "      <td>1</td>\n",
       "    </tr>\n",
       "    <tr>\n",
       "      <th>70</th>\n",
       "      <td>/home/jovyan/work/TBX11K/imgs/tb/tb0472.png</td>\n",
       "      <td>tb</td>\n",
       "      <td>tb0472.png</td>\n",
       "      <td>0</td>\n",
       "    </tr>\n",
       "    <tr>\n",
       "      <th>828</th>\n",
       "      <td>/home/jovyan/work/TBX11K/imgs/health/h3916.png</td>\n",
       "      <td>health</td>\n",
       "      <td>h3916.png</td>\n",
       "      <td>2</td>\n",
       "    </tr>\n",
       "    <tr>\n",
       "      <th>1213</th>\n",
       "      <td>/home/jovyan/work/TBX11K/imgs/sick/s1408.png</td>\n",
       "      <td>sick</td>\n",
       "      <td>s1408.png</td>\n",
       "      <td>1</td>\n",
       "    </tr>\n",
       "    <tr>\n",
       "      <th>912</th>\n",
       "      <td>/home/jovyan/work/TBX11K/imgs/health/h4413.png</td>\n",
       "      <td>health</td>\n",
       "      <td>h4413.png</td>\n",
       "      <td>2</td>\n",
       "    </tr>\n",
       "    <tr>\n",
       "      <th>750</th>\n",
       "      <td>/home/jovyan/work/TBX11K/imgs/health/h3416.png</td>\n",
       "      <td>health</td>\n",
       "      <td>h3416.png</td>\n",
       "      <td>2</td>\n",
       "    </tr>\n",
       "  </tbody>\n",
       "</table>\n",
       "</div>"
      ],
      "text/plain": [
       "                                           directory Category(Label)  \\\n",
       "1584    /home/jovyan/work/TBX11K/imgs/sick/s3648.png            sick   \n",
       "1451    /home/jovyan/work/TBX11K/imgs/sick/s2878.png            sick   \n",
       "807   /home/jovyan/work/TBX11K/imgs/health/h3769.png          health   \n",
       "131      /home/jovyan/work/TBX11K/imgs/tb/tb0792.png              tb   \n",
       "1169    /home/jovyan/work/TBX11K/imgs/sick/s1111.png            sick   \n",
       "70       /home/jovyan/work/TBX11K/imgs/tb/tb0472.png              tb   \n",
       "828   /home/jovyan/work/TBX11K/imgs/health/h3916.png          health   \n",
       "1213    /home/jovyan/work/TBX11K/imgs/sick/s1408.png            sick   \n",
       "912   /home/jovyan/work/TBX11K/imgs/health/h4413.png          health   \n",
       "750   /home/jovyan/work/TBX11K/imgs/health/h3416.png          health   \n",
       "\n",
       "        FileName  Category(Integer)  \n",
       "1584   s3648.png                  1  \n",
       "1451   s2878.png                  1  \n",
       "807    h3769.png                  2  \n",
       "131   tb0792.png                  0  \n",
       "1169   s1111.png                  1  \n",
       "70    tb0472.png                  0  \n",
       "828    h3916.png                  2  \n",
       "1213   s1408.png                  1  \n",
       "912    h4413.png                  2  \n",
       "750    h3416.png                  2  "
      ]
     },
     "execution_count": 25,
     "metadata": {},
     "output_type": "execute_result"
    }
   ],
   "source": [
    "TBX11K_val.sample(10)"
   ]
  },
  {
   "cell_type": "code",
   "execution_count": 26,
   "metadata": {},
   "outputs": [],
   "source": [
    "val_array = np.array([np.array(Image.open(fname)) for fname in TBX11K_val['directory']])"
   ]
  },
  {
   "cell_type": "code",
   "execution_count": 27,
   "metadata": {},
   "outputs": [
    {
     "data": {
      "text/plain": [
       "(1800, 512, 512, 3)"
      ]
     },
     "execution_count": 27,
     "metadata": {},
     "output_type": "execute_result"
    }
   ],
   "source": [
    "val_array.shape"
   ]
  },
  {
   "cell_type": "code",
   "execution_count": 28,
   "metadata": {},
   "outputs": [
    {
     "data": {
      "image/png": "[encoded data removed]",
      "text/plain": [
       "<Figure size 432x288 with 1 Axes>"
      ]
     },
     "metadata": {
      "needs_background": "light"
     },
     "output_type": "display_data"
    }
   ],
   "source": [
    "im=val_array[1500]\n",
    "pyplot.imshow(im)\n",
    "pyplot.show()"
   ]
  },
  {
   "cell_type": "code",
   "execution_count": 29,
   "metadata": {},
   "outputs": [],
   "source": [
    "val_array_labels=np.array(TBX11K_val['Category(Integer)'])\n",
    "val_array_labels=val_array_labels.reshape((len(val_array_labels), 1))"
   ]
  },
  {
   "cell_type": "code",
   "execution_count": 30,
   "metadata": {},
   "outputs": [
    {
     "data": {
      "text/plain": [
       "(1800, 1)"
      ]
     },
     "execution_count": 30,
     "metadata": {},
     "output_type": "execute_result"
    }
   ],
   "source": [
    "val_array_labels.shape"
   ]
  },
  {
   "cell_type": "code",
   "execution_count": 31,
   "metadata": {},
   "outputs": [
    {
     "data": {
      "text/plain": [
       "array([1])"
      ]
     },
     "execution_count": 31,
     "metadata": {},
     "output_type": "execute_result"
    }
   ],
   "source": [
    "val_array_labels[1500]"
   ]
  },
  {
   "cell_type": "markdown",
   "metadata": {},
   "source": [
    "# Training the Model  (A lot needed to be improvised but this is the first draft yay!!!)"
   ]
  },
  {
   "cell_type": "markdown",
   "metadata": {},
   "source": [
    "- train_array = X_train\n",
    "- train_array_labels =y_train\n",
    "- val_array = X_test\n",
    "- val_array_labels = y_test"
   ]
  },
  {
   "cell_type": "code",
   "execution_count": 32,
   "metadata": {},
   "outputs": [],
   "source": [
    "# renaming the array to work with the already existing models \n",
    "X_train= train_array\n",
    "X_test=val_array \n",
    "y_train= train_array_labels \n",
    "y_test=val_array_labels"
   ]
  },
  {
   "cell_type": "code",
   "execution_count": 24,
   "metadata": {},
   "outputs": [],
   "source": [
    "num_classes = 3\n",
    "img_height, img_width=512, 512\n",
    "model = Sequential([\n",
    "  layers.experimental.preprocessing.Rescaling(1./255, input_shape=(img_height, img_width, 3)),\n",
    "  layers.Conv2D(16, 3, padding='same', activation='relu'),\n",
    "  layers.MaxPooling2D(),\n",
    "  layers.Conv2D(32, 3, padding='same', activation='relu'),\n",
    "  layers.MaxPooling2D(),\n",
    "  layers.Conv2D(64, 3, padding='same', activation='relu'),\n",
    "  layers.MaxPooling2D(),\n",
    "  layers.Flatten(),\n",
    "  layers.Dense(128, activation='relu'),\n",
    "  layers.Dense(num_classes)\n",
    "])"
   ]
  },
  {
   "cell_type": "code",
   "execution_count": 25,
   "metadata": {},
   "outputs": [],
   "source": [
    "model.compile(optimizer='adam',\n",
    "              loss=tf.keras.losses.SparseCategoricalCrossentropy(from_logits=True),\n",
    "              metrics=['accuracy'])"
   ]
  },
  {
   "cell_type": "code",
   "execution_count": 26,
   "metadata": {},
   "outputs": [
    {
     "name": "stdout",
     "output_type": "stream",
     "text": [
      "Model: \"sequential\"\n",
      "_________________________________________________________________\n",
      "Layer (type)                 Output Shape              Param #   \n",
      "=================================================================\n",
      "rescaling (Rescaling)        (None, 512, 512, 3)       0         \n",
      "_________________________________________________________________\n",
      "conv2d (Conv2D)              (None, 512, 512, 16)      448       \n",
      "_________________________________________________________________\n",
      "max_pooling2d (MaxPooling2D) (None, 256, 256, 16)      0         \n",
      "_________________________________________________________________\n",
      "conv2d_1 (Conv2D)            (None, 256, 256, 32)      4640      \n",
      "_________________________________________________________________\n",
      "max_pooling2d_1 (MaxPooling2 (None, 128, 128, 32)      0         \n",
      "_________________________________________________________________\n",
      "conv2d_2 (Conv2D)            (None, 128, 128, 64)      18496     \n",
      "_________________________________________________________________\n",
      "max_pooling2d_2 (MaxPooling2 (None, 64, 64, 64)        0         \n",
      "_________________________________________________________________\n",
      "flatten (Flatten)            (None, 262144)            0         \n",
      "_________________________________________________________________\n",
      "dense (Dense)                (None, 128)               33554560  \n",
      "_________________________________________________________________\n",
      "dense_1 (Dense)              (None, 3)                 387       \n",
      "=================================================================\n",
      "Total params: 33,578,531\n",
      "Trainable params: 33,578,531\n",
      "Non-trainable params: 0\n",
      "_________________________________________________________________\n"
     ]
    }
   ],
   "source": [
    "model.summary()"
   ]
  },
  {
   "cell_type": "code",
   "execution_count": 51,
   "metadata": {},
   "outputs": [
    {
     "name": "stdout",
     "output_type": "stream",
     "text": [
      "Epoch 1/10\n",
      "550/550 [==============================] - 473s 860ms/step - loss: 0.0396 - accuracy: 0.9970 - val_loss: 1.8169 - val_accuracy: 0.9639\n",
      "Epoch 2/10\n",
      "550/550 [==============================] - 476s 865ms/step - loss: 3.1920e-04 - accuracy: 0.9998 - val_loss: 1.8390 - val_accuracy: 0.9633\n",
      "Epoch 3/10\n",
      "550/550 [==============================] - 474s 862ms/step - loss: 4.0801e-05 - accuracy: 1.0000 - val_loss: 1.8381 - val_accuracy: 0.9633\n",
      "Epoch 4/10\n",
      "550/550 [==============================] - 478s 869ms/step - loss: 2.9912e-05 - accuracy: 1.0000 - val_loss: 1.8371 - val_accuracy: 0.9633\n",
      "Epoch 5/10\n",
      "550/550 [==============================] - 472s 858ms/step - loss: 2.2535e-05 - accuracy: 1.0000 - val_loss: 1.8364 - val_accuracy: 0.9633\n",
      "Epoch 6/10\n",
      "550/550 [==============================] - 474s 862ms/step - loss: 1.7699e-05 - accuracy: 1.0000 - val_loss: 1.8361 - val_accuracy: 0.9639\n",
      "Epoch 7/10\n",
      "550/550 [==============================] - 476s 866ms/step - loss: 1.5601e-05 - accuracy: 1.0000 - val_loss: 1.8359 - val_accuracy: 0.9644\n",
      "Epoch 8/10\n",
      "550/550 [==============================] - 474s 861ms/step - loss: 1.3592e-05 - accuracy: 1.0000 - val_loss: 1.8359 - val_accuracy: 0.9650\n",
      "Epoch 9/10\n",
      "550/550 [==============================] - 476s 865ms/step - loss: 1.1542e-05 - accuracy: 1.0000 - val_loss: 1.8362 - val_accuracy: 0.9650\n",
      "Epoch 10/10\n",
      "550/550 [==============================] - 477s 868ms/step - loss: 9.6118e-06 - accuracy: 1.0000 - val_loss: 1.8369 - val_accuracy: 0.9650\n"
     ]
    }
   ],
   "source": [
    "# training the model for 10 epochs with 1 batch size\n",
    "\n",
    "model.fit(X_train, y_train, batch_size=12, epochs=10, validation_data=(X_test, y_test))\n",
    "\n",
    "!mkdir -p saved_model\n",
    "model.save('/home/jovyan/work/saveModel/tb_diagnosis_model.h5')\n",
    "\n"
   ]
  },
  {
   "cell_type": "code",
   "execution_count": 33,
   "metadata": {},
   "outputs": [
    {
     "name": "stdout",
     "output_type": "stream",
     "text": [
      "Model: \"sequential\"\n",
      "_________________________________________________________________\n",
      "Layer (type)                 Output Shape              Param #   \n",
      "=================================================================\n",
      "rescaling (Rescaling)        (None, 512, 512, 3)       0         \n",
      "_________________________________________________________________\n",
      "conv2d (Conv2D)              (None, 512, 512, 16)      448       \n",
      "_________________________________________________________________\n",
      "max_pooling2d (MaxPooling2D) (None, 256, 256, 16)      0         \n",
      "_________________________________________________________________\n",
      "conv2d_1 (Conv2D)            (None, 256, 256, 32)      4640      \n",
      "_________________________________________________________________\n",
      "max_pooling2d_1 (MaxPooling2 (None, 128, 128, 32)      0         \n",
      "_________________________________________________________________\n",
      "conv2d_2 (Conv2D)            (None, 128, 128, 64)      18496     \n",
      "_________________________________________________________________\n",
      "max_pooling2d_2 (MaxPooling2 (None, 64, 64, 64)        0         \n",
      "_________________________________________________________________\n",
      "flatten (Flatten)            (None, 262144)            0         \n",
      "_________________________________________________________________\n",
      "dense (Dense)                (None, 128)               33554560  \n",
      "_________________________________________________________________\n",
      "dense_1 (Dense)              (None, 3)                 387       \n",
      "=================================================================\n",
      "Total params: 33,578,531\n",
      "Trainable params: 33,578,531\n",
      "Non-trainable params: 0\n",
      "_________________________________________________________________\n"
     ]
    }
   ],
   "source": [
    "# Recreate the exact same model, including its weights and the optimizer\n",
    "new_model = tf.keras.models.load_model('/home/jovyan/work/saveModel/tb_diagnosis_model.h5')\n",
    "\n",
    "# Show the model architecture\n",
    "new_model.summary()"
   ]
  }
 ],
 "metadata": {
  "kernelspec": {
   "display_name": "Python 3",
   "language": "python",
   "name": "python3"
  },
  "language_info": {
   "codemirror_mode": {
    "name": "ipython",
    "version": 3
   },
   "file_extension": ".py",
   "mimetype": "text/x-python",
   "name": "python",
   "nbconvert_exporter": "python",
   "pygments_lexer": "ipython3",
   "version": "3.8.6"
  }
 },
 "nbformat": 4,
 "nbformat_minor": 4
}